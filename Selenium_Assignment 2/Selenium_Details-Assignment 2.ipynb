{
 "cells": [
  {
   "cell_type": "markdown",
   "id": "dfbc2c76",
   "metadata": {},
   "source": [
    "# Question Number 1 &2 "
   ]
  },
  {
   "cell_type": "code",
   "execution_count": 39,
   "id": "ca75f815",
   "metadata": {},
   "outputs": [],
   "source": [
    "import selenium\n",
    "import pandas as pd\n",
    "from selenium import webdriver\n",
    "import warnings\n",
    "warnings.filterwarnings('ignore')"
   ]
  },
  {
   "cell_type": "code",
   "execution_count": 40,
   "id": "ce79136c",
   "metadata": {
    "scrolled": true
   },
   "outputs": [],
   "source": [
    "import selenium\n",
    "import os\n",
    "\n",
    "from selenium import webdriver\n",
    "from selenium.webdriver.common.keys import Keys\n",
    "\n",
    "chromedriver = '/usr/local/bin/chromedriver'\n",
    "driver = webdriver.Chrome(chromedriver)\n",
    "driver.get('https://www.naukri.com/')"
   ]
  },
  {
   "cell_type": "code",
   "execution_count": 107,
   "id": "6cff826e",
   "metadata": {},
   "outputs": [],
   "source": [
    "#driver.close()\n"
   ]
  },
  {
   "cell_type": "code",
   "execution_count": 98,
   "id": "d2d09808",
   "metadata": {},
   "outputs": [],
   "source": [
    "search_job=driver.find_element_by_id('qsb-keyword-sugg')\n",
    "search_job.send_keys(\"Data Scientist\")\n",
    "search_loc=driver.find_element_by_xpath(\"//input[@id='qsb-location-sugg']\")\n",
    "search_loc.send_keys(\"Bangalore\")"
   ]
  },
  {
   "cell_type": "code",
   "execution_count": 70,
   "id": "87da94ea",
   "metadata": {},
   "outputs": [],
   "source": [
    "search_btn=driver.find_element_by_xpath(\"//div[@class='search-btn']/button\")\n",
    "search_btn.click()"
   ]
  },
  {
   "cell_type": "code",
   "execution_count": 101,
   "id": "6c8e58a5",
   "metadata": {},
   "outputs": [],
   "source": [
    "job_titles =[]\n",
    "company_names=[]\n",
    "locations_list=[]\n",
    "experience_list=[]"
   ]
  },
  {
   "cell_type": "code",
   "execution_count": 72,
   "id": "ddc804ee",
   "metadata": {},
   "outputs": [
    {
     "data": {
      "text/plain": [
       "[<selenium.webdriver.remote.webelement.WebElement (session=\"e1b724f8074593f287b2fe25c5b93bf5\", element=\"7431496a-9157-493e-90e1-65be4ec70dbf\")>,\n",
       " <selenium.webdriver.remote.webelement.WebElement (session=\"e1b724f8074593f287b2fe25c5b93bf5\", element=\"d2efff92-ba04-4893-a3b2-0643a8273f41\")>,\n",
       " <selenium.webdriver.remote.webelement.WebElement (session=\"e1b724f8074593f287b2fe25c5b93bf5\", element=\"d7bd3bfb-dfac-4ae0-ae53-35df90ecc585\")>,\n",
       " <selenium.webdriver.remote.webelement.WebElement (session=\"e1b724f8074593f287b2fe25c5b93bf5\", element=\"74fabfbe-b0fa-433d-8fa5-e65c37ea0bab\")>]"
      ]
     },
     "execution_count": 72,
     "metadata": {},
     "output_type": "execute_result"
    }
   ],
   "source": [
    "titles_tags=driver.find_elements_by_xpath(\"//a[@class='title fw500 ellipsis']\")\n",
    "titles_tags[0:4]"
   ]
  },
  {
   "cell_type": "code",
   "execution_count": 73,
   "id": "f11e7215",
   "metadata": {},
   "outputs": [
    {
     "data": {
      "text/plain": [
       "['Data Scientist: Advanced Analytics',\n",
       " 'Senior data scientist',\n",
       " 'Healthcare Data Scientist',\n",
       " 'Data Scientist: Advanced Analytics']"
      ]
     },
     "execution_count": 73,
     "metadata": {},
     "output_type": "execute_result"
    }
   ],
   "source": [
    "for i in titles_tags:\n",
    "    title=i.text\n",
    "    job_titles.append(title)\n",
    "job_titles[0:4]    \n",
    "    "
   ]
  },
  {
   "cell_type": "code",
   "execution_count": 74,
   "id": "49d2e2c2",
   "metadata": {},
   "outputs": [
    {
     "data": {
      "text/plain": [
       "[<selenium.webdriver.remote.webelement.WebElement (session=\"e1b724f8074593f287b2fe25c5b93bf5\", element=\"70fb97b3-f78a-42f0-92fc-9d6a651a1cfd\")>,\n",
       " <selenium.webdriver.remote.webelement.WebElement (session=\"e1b724f8074593f287b2fe25c5b93bf5\", element=\"2792ceda-0eb6-44bd-ba4b-6d5913b5f02e\")>,\n",
       " <selenium.webdriver.remote.webelement.WebElement (session=\"e1b724f8074593f287b2fe25c5b93bf5\", element=\"f22cc973-d1c4-47f9-b1b4-ad2ae500ebab\")>,\n",
       " <selenium.webdriver.remote.webelement.WebElement (session=\"e1b724f8074593f287b2fe25c5b93bf5\", element=\"71dc1545-3862-494b-8632-a72adb49e260\")>]"
      ]
     },
     "execution_count": 74,
     "metadata": {},
     "output_type": "execute_result"
    }
   ],
   "source": [
    "companies_tags=driver.find_elements_by_xpath(\"//a[@class='subTitle ellipsis fleft']\")\n",
    "companies_tags[0:4]"
   ]
  },
  {
   "cell_type": "code",
   "execution_count": 75,
   "id": "d8a24c9b",
   "metadata": {},
   "outputs": [
    {
     "data": {
      "text/plain": [
       "['IBM India Pvt. Limited',\n",
       " 'Compile Inc',\n",
       " 'Accumed Practice Management DMCC',\n",
       " 'IBM India Pvt. Limited',\n",
       " 'IBM India Pvt. Limited',\n",
       " 'Tarento Technologies Pvt Ltd',\n",
       " 'Visa',\n",
       " 'Tata Unistore',\n",
       " 'Eli Lilly and Company',\n",
       " 'mPokket',\n",
       " 'Superior Group',\n",
       " 'Idexcel Technologies Private Limited']"
      ]
     },
     "execution_count": 75,
     "metadata": {},
     "output_type": "execute_result"
    }
   ],
   "source": [
    "for i in companies_tags:\n",
    "    company_name=i.text\n",
    "    company_names.append(company_name)\n",
    "company_names[0:12]   "
   ]
  },
  {
   "cell_type": "code",
   "execution_count": 76,
   "id": "c3e1694b",
   "metadata": {},
   "outputs": [
    {
     "data": {
      "text/plain": [
       "[<selenium.webdriver.remote.webelement.WebElement (session=\"e1b724f8074593f287b2fe25c5b93bf5\", element=\"1d50a614-8c94-495d-9276-7ed4e9310d2d\")>,\n",
       " <selenium.webdriver.remote.webelement.WebElement (session=\"e1b724f8074593f287b2fe25c5b93bf5\", element=\"21d24bfa-bbf8-4e1d-b31b-38e0d8e8b2aa\")>,\n",
       " <selenium.webdriver.remote.webelement.WebElement (session=\"e1b724f8074593f287b2fe25c5b93bf5\", element=\"d9e926c3-8a0c-440f-895e-60b0f892d428\")>,\n",
       " <selenium.webdriver.remote.webelement.WebElement (session=\"e1b724f8074593f287b2fe25c5b93bf5\", element=\"244da196-ba1c-4bd0-804e-81932d7b426b\")>]"
      ]
     },
     "execution_count": 76,
     "metadata": {},
     "output_type": "execute_result"
    }
   ],
   "source": [
    "experience_tags=driver.find_elements_by_xpath(\"//li[@class='fleft grey-text br2 placeHolderLi experience']\")\n",
    "experience_tags[0:4]"
   ]
  },
  {
   "cell_type": "code",
   "execution_count": 77,
   "id": "399bbf04",
   "metadata": {},
   "outputs": [
    {
     "data": {
      "text/plain": [
       "['5-7 Yrs', '5-10 Yrs', '3-8 Yrs', '5-10 Yrs']"
      ]
     },
     "execution_count": 77,
     "metadata": {},
     "output_type": "execute_result"
    }
   ],
   "source": [
    "for i in experience_tags:\n",
    "    experience=i.text\n",
    "    experience_list.append(experience)\n",
    "experience_list[0:4]   "
   ]
  },
  {
   "cell_type": "code",
   "execution_count": 78,
   "id": "0cfb8778",
   "metadata": {},
   "outputs": [
    {
     "data": {
      "text/plain": [
       "[<selenium.webdriver.remote.webelement.WebElement (session=\"e1b724f8074593f287b2fe25c5b93bf5\", element=\"53f7d18b-b4e8-4e35-a721-449162509428\")>,\n",
       " <selenium.webdriver.remote.webelement.WebElement (session=\"e1b724f8074593f287b2fe25c5b93bf5\", element=\"afc878a1-86bc-4647-bb96-88c933ed9762\")>,\n",
       " <selenium.webdriver.remote.webelement.WebElement (session=\"e1b724f8074593f287b2fe25c5b93bf5\", element=\"53e371d4-3a7d-432b-8929-bddf31842d60\")>,\n",
       " <selenium.webdriver.remote.webelement.WebElement (session=\"e1b724f8074593f287b2fe25c5b93bf5\", element=\"445dc598-cce5-48bc-9f76-379256c4cc25\")>]"
      ]
     },
     "execution_count": 78,
     "metadata": {},
     "output_type": "execute_result"
    }
   ],
   "source": [
    "location_tags=driver.find_elements_by_xpath(\"//li[@class='fleft grey-text br2 placeHolderLi location']\")\n",
    "location_tags[0:4]"
   ]
  },
  {
   "cell_type": "code",
   "execution_count": 79,
   "id": "a99e604a",
   "metadata": {},
   "outputs": [
    {
     "data": {
      "text/plain": [
       "['Bengaluru/Bangalore',\n",
       " 'Bangalore/Bengaluru',\n",
       " 'Chennai, Bangalore/Bengaluru\\n(WFH during Covid)',\n",
       " 'Bangalore/Bengaluru']"
      ]
     },
     "execution_count": 79,
     "metadata": {},
     "output_type": "execute_result"
    }
   ],
   "source": [
    "for i in location_tags:\n",
    "    location=i.text\n",
    "    locations_list.append(location)\n",
    "locations_list[0:4]  "
   ]
  },
  {
   "cell_type": "code",
   "execution_count": 80,
   "id": "43f7d0a0",
   "metadata": {},
   "outputs": [
    {
     "name": "stdout",
     "output_type": "stream",
     "text": [
      "20 20 20 20\n"
     ]
    }
   ],
   "source": [
    "print(len(job_titles),len(company_names),len(experience_list),len(locations_list))"
   ]
  },
  {
   "cell_type": "code",
   "execution_count": 81,
   "id": "52ac006d",
   "metadata": {},
   "outputs": [],
   "source": [
    "import pandas as pd\n",
    "jobs=pd.DataFrame({})\n",
    "jobs['title']=job_titles\n",
    "jobs['company']=company_names\n",
    "jobs['experience_required']=experience_list\n",
    "jobs['location']=locations_list"
   ]
  },
  {
   "cell_type": "code",
   "execution_count": 83,
   "id": "d5fb1eb9",
   "metadata": {},
   "outputs": [
    {
     "data": {
      "text/html": [
       "<div>\n",
       "<style scoped>\n",
       "    .dataframe tbody tr th:only-of-type {\n",
       "        vertical-align: middle;\n",
       "    }\n",
       "\n",
       "    .dataframe tbody tr th {\n",
       "        vertical-align: top;\n",
       "    }\n",
       "\n",
       "    .dataframe thead th {\n",
       "        text-align: right;\n",
       "    }\n",
       "</style>\n",
       "<table border=\"1\" class=\"dataframe\">\n",
       "  <thead>\n",
       "    <tr style=\"text-align: right;\">\n",
       "      <th></th>\n",
       "      <th>title</th>\n",
       "      <th>company</th>\n",
       "      <th>experience_required</th>\n",
       "      <th>location</th>\n",
       "    </tr>\n",
       "  </thead>\n",
       "  <tbody>\n",
       "    <tr>\n",
       "      <th>0</th>\n",
       "      <td>Data Scientist: Advanced Analytics</td>\n",
       "      <td>IBM India Pvt. Limited</td>\n",
       "      <td>5-7 Yrs</td>\n",
       "      <td>Bengaluru/Bangalore</td>\n",
       "    </tr>\n",
       "    <tr>\n",
       "      <th>1</th>\n",
       "      <td>Senior data scientist</td>\n",
       "      <td>Compile Inc</td>\n",
       "      <td>5-10 Yrs</td>\n",
       "      <td>Bangalore/Bengaluru</td>\n",
       "    </tr>\n",
       "    <tr>\n",
       "      <th>2</th>\n",
       "      <td>Healthcare Data Scientist</td>\n",
       "      <td>Accumed Practice Management DMCC</td>\n",
       "      <td>3-8 Yrs</td>\n",
       "      <td>Chennai, Bangalore/Bengaluru\\n(WFH during Covid)</td>\n",
       "    </tr>\n",
       "    <tr>\n",
       "      <th>3</th>\n",
       "      <td>Data Scientist: Advanced Analytics</td>\n",
       "      <td>IBM India Pvt. Limited</td>\n",
       "      <td>5-10 Yrs</td>\n",
       "      <td>Bangalore/Bengaluru</td>\n",
       "    </tr>\n",
       "    <tr>\n",
       "      <th>4</th>\n",
       "      <td>Cognitive Data Scientist</td>\n",
       "      <td>IBM India Pvt. Limited</td>\n",
       "      <td>3-7 Yrs</td>\n",
       "      <td>Bangalore/Bengaluru</td>\n",
       "    </tr>\n",
       "    <tr>\n",
       "      <th>5</th>\n",
       "      <td>Data Scientist</td>\n",
       "      <td>Tarento Technologies Pvt Ltd</td>\n",
       "      <td>5-10 Yrs</td>\n",
       "      <td>Bangalore/Bengaluru</td>\n",
       "    </tr>\n",
       "    <tr>\n",
       "      <th>6</th>\n",
       "      <td>Senior Data Scientist</td>\n",
       "      <td>Visa</td>\n",
       "      <td>4-9 Yrs</td>\n",
       "      <td>Bangalore/Bengaluru</td>\n",
       "    </tr>\n",
       "    <tr>\n",
       "      <th>7</th>\n",
       "      <td>Data Scientist</td>\n",
       "      <td>Tata Unistore</td>\n",
       "      <td>3-7 Yrs</td>\n",
       "      <td>Mumbai, Bangalore/Bengaluru</td>\n",
       "    </tr>\n",
       "    <tr>\n",
       "      <th>8</th>\n",
       "      <td>Sr. Associate Consultant Data Scientist</td>\n",
       "      <td>Eli Lilly and Company</td>\n",
       "      <td>3-5 Yrs</td>\n",
       "      <td>Bangalore/Bengaluru</td>\n",
       "    </tr>\n",
       "    <tr>\n",
       "      <th>9</th>\n",
       "      <td>Sr. Data Scientist / Data Scientist For Bangal...</td>\n",
       "      <td>mPokket</td>\n",
       "      <td>3-8 Yrs</td>\n",
       "      <td>Kolkata, Bangalore/Bengaluru</td>\n",
       "    </tr>\n",
       "  </tbody>\n",
       "</table>\n",
       "</div>"
      ],
      "text/plain": [
       "                                               title  \\\n",
       "0                 Data Scientist: Advanced Analytics   \n",
       "1                              Senior data scientist   \n",
       "2                          Healthcare Data Scientist   \n",
       "3                 Data Scientist: Advanced Analytics   \n",
       "4                           Cognitive Data Scientist   \n",
       "5                                     Data Scientist   \n",
       "6                              Senior Data Scientist   \n",
       "7                                     Data Scientist   \n",
       "8            Sr. Associate Consultant Data Scientist   \n",
       "9  Sr. Data Scientist / Data Scientist For Bangal...   \n",
       "\n",
       "                            company experience_required  \\\n",
       "0            IBM India Pvt. Limited             5-7 Yrs   \n",
       "1                       Compile Inc            5-10 Yrs   \n",
       "2  Accumed Practice Management DMCC             3-8 Yrs   \n",
       "3            IBM India Pvt. Limited            5-10 Yrs   \n",
       "4            IBM India Pvt. Limited             3-7 Yrs   \n",
       "5      Tarento Technologies Pvt Ltd            5-10 Yrs   \n",
       "6                              Visa             4-9 Yrs   \n",
       "7                     Tata Unistore             3-7 Yrs   \n",
       "8             Eli Lilly and Company             3-5 Yrs   \n",
       "9                           mPokket             3-8 Yrs   \n",
       "\n",
       "                                           location  \n",
       "0                               Bengaluru/Bangalore  \n",
       "1                               Bangalore/Bengaluru  \n",
       "2  Chennai, Bangalore/Bengaluru\\n(WFH during Covid)  \n",
       "3                               Bangalore/Bengaluru  \n",
       "4                               Bangalore/Bengaluru  \n",
       "5                               Bangalore/Bengaluru  \n",
       "6                               Bangalore/Bengaluru  \n",
       "7                       Mumbai, Bangalore/Bengaluru  \n",
       "8                               Bangalore/Bengaluru  \n",
       "9                      Kolkata, Bangalore/Bengaluru  "
      ]
     },
     "execution_count": 83,
     "metadata": {},
     "output_type": "execute_result"
    }
   ],
   "source": [
    "jobs[:10]"
   ]
  },
  {
   "cell_type": "markdown",
   "id": "769e6154",
   "metadata": {},
   "source": [
    "# Question Number 3"
   ]
  },
  {
   "cell_type": "code",
   "execution_count": 87,
   "id": "5cf06850",
   "metadata": {},
   "outputs": [],
   "source": [
    "import selenium\n",
    "import pandas as pd\n",
    "from selenium import webdriver\n",
    "from selenium.webdriver.support.ui import WebDriverWait\n",
    "from selenium.webdriver.common.by import By\n",
    "from selenium.webdriver.support import expected_conditions as EC\n",
    "import warnings\n",
    "warnings.filterwarnings('ignore')"
   ]
  },
  {
   "cell_type": "code",
   "execution_count": 88,
   "id": "77649ff7",
   "metadata": {},
   "outputs": [],
   "source": [
    "import selenium\n",
    "import os\n",
    "import time\n",
    "\n",
    "from selenium import webdriver\n",
    "from selenium.webdriver.common.keys import Keys\n",
    "\n",
    "chromedriver = '/usr/local/bin/chromedriver'\n",
    "driver1 = webdriver.Chrome(chromedriver)\n",
    "driver1.get('https://www.naukri.com/')"
   ]
  },
  {
   "cell_type": "code",
   "execution_count": 89,
   "id": "63b3758f",
   "metadata": {},
   "outputs": [],
   "source": [
    "#driver1.close()"
   ]
  },
  {
   "cell_type": "code",
   "execution_count": 90,
   "id": "69b0bc51",
   "metadata": {},
   "outputs": [],
   "source": [
    "search_job=driver1.find_element_by_id('qsb-keyword-sugg')\n",
    "search_job.send_keys(\"Data Scientist\")\n",
    "search_loc=driver1.find_element_by_xpath(\"//input[@id='qsb-location-sugg']\")\n",
    "search_loc.send_keys(\"Delhi\")\n",
    "search_btn = driver1.find_element_by_xpath(\"//div[@class = 'search-btn']//button[@class = 'btn']\")\n",
    "search_btn.click()"
   ]
  },
  {
   "cell_type": "code",
   "execution_count": 91,
   "id": "fe728b7c",
   "metadata": {},
   "outputs": [],
   "source": [
    "time.sleep(3)\n",
    "#Clicking the filter required.\n",
    "Filter1 = driver1.find_element_by_xpath(\"//label[@for='chk-Delhi / NCR-cityTypeGid-']/i\")\n",
    "Filter1.click()\n",
    "time.sleep(3)\n",
    "#Clicking the filter required.\n",
    "Filter2 = driver1.find_element_by_xpath(\"//label[@for='chk-3-6 Lakhs-ctcFilter-']/i\")\n",
    "Filter2.click()\n",
    "\n",
    "job_title = []#title of job\n",
    "company_name = []#title of Company\n",
    "exp = []#Experience req\n",
    "date = []# Date of post\n",
    "loc = []#Location of the job"
   ]
  },
  {
   "cell_type": "code",
   "execution_count": 92,
   "id": "e916a568",
   "metadata": {},
   "outputs": [
    {
     "data": {
      "text/plain": [
       "[]"
      ]
     },
     "execution_count": 92,
     "metadata": {},
     "output_type": "execute_result"
    }
   ],
   "source": [
    "for i in driver1.find_elements_by_xpath(\"//li[@class='fleft grey-text br2 placeHolderLi experience']\")[:10]:\n",
    "    exp.append(i.text)\n",
    "\n",
    "exp    "
   ]
  },
  {
   "cell_type": "code",
   "execution_count": 93,
   "id": "d62e87c4",
   "metadata": {},
   "outputs": [],
   "source": [
    "time.sleep(3)\n",
    "\n",
    "#sorting the required information and storing in the list.\n",
    "\n",
    "for i in driver1.find_elements_by_xpath(\"//div[@class = 'info fleft']//a[@class = 'title fw500 ellipsis']\")[:10]:\n",
    "    job_title.append(i.text)\n",
    "\n",
    "for i in driver1.find_elements_by_xpath(\"//div[@class = 'info fleft']//a[@class = 'subTitle ellipsis fleft']\")[:10]:\n",
    "    company_name.append(i.text)\n",
    "    \n",
    "for i in driver1.find_elements_by_xpath(\"//li[@class='fleft grey-text br2 placeHolderLi experience']//span[@class = 'ellipsis fleft fs12 lh16']\")[:10]:\n",
    "    exp.append(i.text)\n",
    "\n",
    "for i in driver1.find_elements_by_xpath(\"//li[@class='fleft grey-text br2 placeHolderLi location']\")[:10]:\n",
    "    loc.append(i.text)        \n",
    "        \n",
    "\n",
    "for i in driver1.find_elements_by_xpath(\"//div[@class = 'type br2 fleft grey']//span[@class = 'fleft fw500']\")[:10]:\n",
    "    date.append(i.text)       \n",
    "    \n",
    "    \n",
    "#driver1.quit()"
   ]
  },
  {
   "cell_type": "code",
   "execution_count": 117,
   "id": "e478005e",
   "metadata": {},
   "outputs": [
    {
     "name": "stdout",
     "output_type": "stream",
     "text": [
      "10 10 10 10\n"
     ]
    }
   ],
   "source": [
    "print(len(job_title),len(company_name),len(loc),len(date))"
   ]
  },
  {
   "cell_type": "code",
   "execution_count": 96,
   "id": "1e758c2d",
   "metadata": {},
   "outputs": [],
   "source": [
    "#storing all the required information into DataFrame.\n",
    "\n",
    "DataScientist_JOBDelhi= pd.DataFrame({ \"JOB_TITLE\" : job_title ,\"COMPANY_NAME\": company_name , \n",
    "                                           \"LOCATION\" : loc,\n",
    "                                          \"POST_DATE\" : date})\n",
    "                                           \n",
    "  "
   ]
  },
  {
   "cell_type": "code",
   "execution_count": 97,
   "id": "61f42dbf",
   "metadata": {},
   "outputs": [
    {
     "data": {
      "text/html": [
       "<div>\n",
       "<style scoped>\n",
       "    .dataframe tbody tr th:only-of-type {\n",
       "        vertical-align: middle;\n",
       "    }\n",
       "\n",
       "    .dataframe tbody tr th {\n",
       "        vertical-align: top;\n",
       "    }\n",
       "\n",
       "    .dataframe thead th {\n",
       "        text-align: right;\n",
       "    }\n",
       "</style>\n",
       "<table border=\"1\" class=\"dataframe\">\n",
       "  <thead>\n",
       "    <tr style=\"text-align: right;\">\n",
       "      <th></th>\n",
       "      <th>JOB_TITLE</th>\n",
       "      <th>COMPANY_NAME</th>\n",
       "      <th>LOCATION</th>\n",
       "      <th>POST_DATE</th>\n",
       "    </tr>\n",
       "  </thead>\n",
       "  <tbody>\n",
       "    <tr>\n",
       "      <th>0</th>\n",
       "      <td>Data Scientist</td>\n",
       "      <td>LG Electronics India Pvt. Ltd.</td>\n",
       "      <td>Noida, New Delhi, Faridabad, Gurgaon/Gurugram,...</td>\n",
       "      <td>7 DAYS AGO</td>\n",
       "    </tr>\n",
       "    <tr>\n",
       "      <th>1</th>\n",
       "      <td>Project Manager | Team Leader | Senior Data Sc...</td>\n",
       "      <td>Tidyquant (OPC) Private Limited</td>\n",
       "      <td>Remote</td>\n",
       "      <td>14 DAYS AGO</td>\n",
       "    </tr>\n",
       "    <tr>\n",
       "      <th>2</th>\n",
       "      <td>Data Scientist</td>\n",
       "      <td>Navikenz India Pvt Ltd</td>\n",
       "      <td>Noida, Nodia\\n(WFH during Covid)</td>\n",
       "      <td>3 DAYS AGO</td>\n",
       "    </tr>\n",
       "    <tr>\n",
       "      <th>3</th>\n",
       "      <td>NTT DATA_ Hiring For BIG DATA ,DATA Scientist,...</td>\n",
       "      <td>NTT Data Business Solutions Pvt Ltd</td>\n",
       "      <td>Noida, Kolkata, Hyderabad/Secunderabad, Ahmeda...</td>\n",
       "      <td>15 DAYS AGO</td>\n",
       "    </tr>\n",
       "    <tr>\n",
       "      <th>4</th>\n",
       "      <td>Hiring For Data Analyst / Data Scientist</td>\n",
       "      <td>Careerera</td>\n",
       "      <td>Noida(Sector-59 Noida)</td>\n",
       "      <td>15 DAYS AGO</td>\n",
       "    </tr>\n",
       "    <tr>\n",
       "      <th>5</th>\n",
       "      <td>Data Scientist</td>\n",
       "      <td>Whizhack Technologies pvt ltd</td>\n",
       "      <td>Gurgaon/Gurugram</td>\n",
       "      <td>15 DAYS AGO</td>\n",
       "    </tr>\n",
       "    <tr>\n",
       "      <th>6</th>\n",
       "      <td>Data Scientist</td>\n",
       "      <td>One Mobikwik Systems Private Limited</td>\n",
       "      <td>Gurgaon/Gurugram</td>\n",
       "      <td>14 DAYS AGO</td>\n",
       "    </tr>\n",
       "    <tr>\n",
       "      <th>7</th>\n",
       "      <td>Data Scientist/ Senior Data Scientist</td>\n",
       "      <td>Newgen Software Technologies</td>\n",
       "      <td>Noida</td>\n",
       "      <td>20 DAYS AGO</td>\n",
       "    </tr>\n",
       "    <tr>\n",
       "      <th>8</th>\n",
       "      <td>Hiring For Data Scientist</td>\n",
       "      <td>Tata Consultancy Services Ltd.</td>\n",
       "      <td>Hyderabad/Secunderabad, Pune, Chennai, Bangalo...</td>\n",
       "      <td>15 DAYS AGO</td>\n",
       "    </tr>\n",
       "    <tr>\n",
       "      <th>9</th>\n",
       "      <td>Urgent Hiring For Data Scientist | Work From O...</td>\n",
       "      <td>Careerera</td>\n",
       "      <td>Noida(Sector-59 Noida)</td>\n",
       "      <td>15 DAYS AGO</td>\n",
       "    </tr>\n",
       "  </tbody>\n",
       "</table>\n",
       "</div>"
      ],
      "text/plain": [
       "                                           JOB_TITLE  \\\n",
       "0                                     Data Scientist   \n",
       "1  Project Manager | Team Leader | Senior Data Sc...   \n",
       "2                                     Data Scientist   \n",
       "3  NTT DATA_ Hiring For BIG DATA ,DATA Scientist,...   \n",
       "4           Hiring For Data Analyst / Data Scientist   \n",
       "5                                     Data Scientist   \n",
       "6                                     Data Scientist   \n",
       "7              Data Scientist/ Senior Data Scientist   \n",
       "8                          Hiring For Data Scientist   \n",
       "9  Urgent Hiring For Data Scientist | Work From O...   \n",
       "\n",
       "                           COMPANY_NAME  \\\n",
       "0        LG Electronics India Pvt. Ltd.   \n",
       "1       Tidyquant (OPC) Private Limited   \n",
       "2                Navikenz India Pvt Ltd   \n",
       "3   NTT Data Business Solutions Pvt Ltd   \n",
       "4                             Careerera   \n",
       "5         Whizhack Technologies pvt ltd   \n",
       "6  One Mobikwik Systems Private Limited   \n",
       "7          Newgen Software Technologies   \n",
       "8        Tata Consultancy Services Ltd.   \n",
       "9                             Careerera   \n",
       "\n",
       "                                            LOCATION    POST_DATE  \n",
       "0  Noida, New Delhi, Faridabad, Gurgaon/Gurugram,...   7 DAYS AGO  \n",
       "1                                             Remote  14 DAYS AGO  \n",
       "2                   Noida, Nodia\\n(WFH during Covid)   3 DAYS AGO  \n",
       "3  Noida, Kolkata, Hyderabad/Secunderabad, Ahmeda...  15 DAYS AGO  \n",
       "4                             Noida(Sector-59 Noida)  15 DAYS AGO  \n",
       "5                                   Gurgaon/Gurugram  15 DAYS AGO  \n",
       "6                                   Gurgaon/Gurugram  14 DAYS AGO  \n",
       "7                                              Noida  20 DAYS AGO  \n",
       "8  Hyderabad/Secunderabad, Pune, Chennai, Bangalo...  15 DAYS AGO  \n",
       "9                             Noida(Sector-59 Noida)  15 DAYS AGO  "
      ]
     },
     "execution_count": 97,
     "metadata": {},
     "output_type": "execute_result"
    }
   ],
   "source": [
    "DataScientist_JOBDelhi"
   ]
  },
  {
   "cell_type": "markdown",
   "id": "69c800ea",
   "metadata": {},
   "source": [
    "# Question Number 5"
   ]
  },
  {
   "cell_type": "code",
   "execution_count": 106,
   "id": "f2a55aa5",
   "metadata": {},
   "outputs": [],
   "source": [
    "import selenium\n",
    "import pandas as pd\n",
    "from selenium import webdriver\n",
    "import warnings\n",
    "warnings.filterwarnings('ignore')"
   ]
  },
  {
   "cell_type": "code",
   "execution_count": 107,
   "id": "3e953c15",
   "metadata": {},
   "outputs": [],
   "source": [
    "import selenium\n",
    "import os\n",
    "import time\n",
    "\n",
    "from selenium import webdriver\n",
    "from selenium.webdriver.common.keys import Keys\n",
    "\n",
    "chromedriver = '/usr/local/bin/chromedriver'\n",
    "driver = webdriver.Chrome(chromedriver)\n",
    "driver.get('https://www.flipkart.com/')"
   ]
  },
  {
   "cell_type": "code",
   "execution_count": 108,
   "id": "7b913b9b",
   "metadata": {},
   "outputs": [],
   "source": [
    "#driver.maximize_window()\n",
    "\n",
    "#closing the login Pop-up\n",
    "time.sleep(3)\n",
    "pop_up = driver.find_element_by_xpath(\"//div[@class='_2QfC02']/button[@class = '_2KpZ6l _2doB4z']\")\n",
    "pop_up.click()\n",
    "\n",
    "prod_ser = driver.find_element_by_xpath(\"//div[@class='_3OO5Xc']//input[@type = 'text']\")\n",
    "prod_ser.send_keys(\"sunglasses\")\n",
    "\n",
    "sub_button = driver.find_element_by_xpath(\"//div[@class = 'col-12-12 _2oO9oE']//button[@class = 'L0Z3Pu']\")\n",
    "sub_button.click()"
   ]
  },
  {
   "cell_type": "code",
   "execution_count": 109,
   "id": "897d9c19",
   "metadata": {},
   "outputs": [
    {
     "data": {
      "text/html": [
       "<div>\n",
       "<style scoped>\n",
       "    .dataframe tbody tr th:only-of-type {\n",
       "        vertical-align: middle;\n",
       "    }\n",
       "\n",
       "    .dataframe tbody tr th {\n",
       "        vertical-align: top;\n",
       "    }\n",
       "\n",
       "    .dataframe thead th {\n",
       "        text-align: right;\n",
       "    }\n",
       "</style>\n",
       "<table border=\"1\" class=\"dataframe\">\n",
       "  <thead>\n",
       "    <tr style=\"text-align: right;\">\n",
       "      <th></th>\n",
       "      <th>Brand</th>\n",
       "      <th>Product_Description</th>\n",
       "      <th>Price</th>\n",
       "      <th>Discount</th>\n",
       "    </tr>\n",
       "  </thead>\n",
       "  <tbody>\n",
       "    <tr>\n",
       "      <th>0</th>\n",
       "      <td>PIRASO</td>\n",
       "      <td>UV Protection Aviator Sunglasses (Free Size)</td>\n",
       "      <td>₹261</td>\n",
       "      <td>83% off</td>\n",
       "    </tr>\n",
       "    <tr>\n",
       "      <th>1</th>\n",
       "      <td>PIRASO</td>\n",
       "      <td>UV Protection Rectangular, Over-sized Sunglass...</td>\n",
       "      <td>₹349</td>\n",
       "      <td>88% off</td>\n",
       "    </tr>\n",
       "    <tr>\n",
       "      <th>2</th>\n",
       "      <td>SRPM</td>\n",
       "      <td>UV Protection Wayfarer Sunglasses (56)</td>\n",
       "      <td>₹188</td>\n",
       "      <td>85% off</td>\n",
       "    </tr>\n",
       "    <tr>\n",
       "      <th>3</th>\n",
       "      <td>Elligator</td>\n",
       "      <td>UV Protection Round Sunglasses (54)</td>\n",
       "      <td>₹248</td>\n",
       "      <td>90% off</td>\n",
       "    </tr>\n",
       "    <tr>\n",
       "      <th>4</th>\n",
       "      <td>PIRASO</td>\n",
       "      <td>UV Protection Aviator Sunglasses (54)</td>\n",
       "      <td>₹200</td>\n",
       "      <td>87% off</td>\n",
       "    </tr>\n",
       "    <tr>\n",
       "      <th>...</th>\n",
       "      <td>...</td>\n",
       "      <td>...</td>\n",
       "      <td>...</td>\n",
       "      <td>...</td>\n",
       "    </tr>\n",
       "    <tr>\n",
       "      <th>95</th>\n",
       "      <td>PIRASO</td>\n",
       "      <td>UV Protection Aviator Sunglasses (54)</td>\n",
       "      <td>₹200</td>\n",
       "      <td>87% off</td>\n",
       "    </tr>\n",
       "    <tr>\n",
       "      <th>96</th>\n",
       "      <td>GANSTA</td>\n",
       "      <td>UV Protection, Gradient Aviator Sunglasses (57)</td>\n",
       "      <td>₹224</td>\n",
       "      <td>82% off</td>\n",
       "    </tr>\n",
       "    <tr>\n",
       "      <th>97</th>\n",
       "      <td>kingsunglasses</td>\n",
       "      <td>UV Protection, Others Round, Aviator Sunglasse...</td>\n",
       "      <td>₹189</td>\n",
       "      <td>81% off</td>\n",
       "    </tr>\n",
       "    <tr>\n",
       "      <th>98</th>\n",
       "      <td>IDEE</td>\n",
       "      <td>UV Protection Cat-eye Sunglasses (20)</td>\n",
       "      <td>₹1,089</td>\n",
       "      <td>51% off</td>\n",
       "    </tr>\n",
       "    <tr>\n",
       "      <th>99</th>\n",
       "      <td>PIRASO</td>\n",
       "      <td>UV Protection Aviator Sunglasses (58)</td>\n",
       "      <td>₹299</td>\n",
       "      <td>88% off</td>\n",
       "    </tr>\n",
       "  </tbody>\n",
       "</table>\n",
       "<p>100 rows × 4 columns</p>\n",
       "</div>"
      ],
      "text/plain": [
       "             Brand                                Product_Description   Price  \\\n",
       "0           PIRASO       UV Protection Aviator Sunglasses (Free Size)    ₹261   \n",
       "1           PIRASO  UV Protection Rectangular, Over-sized Sunglass...    ₹349   \n",
       "2             SRPM             UV Protection Wayfarer Sunglasses (56)    ₹188   \n",
       "3        Elligator                UV Protection Round Sunglasses (54)    ₹248   \n",
       "4           PIRASO              UV Protection Aviator Sunglasses (54)    ₹200   \n",
       "..             ...                                                ...     ...   \n",
       "95          PIRASO              UV Protection Aviator Sunglasses (54)    ₹200   \n",
       "96          GANSTA    UV Protection, Gradient Aviator Sunglasses (57)    ₹224   \n",
       "97  kingsunglasses  UV Protection, Others Round, Aviator Sunglasse...    ₹189   \n",
       "98            IDEE              UV Protection Cat-eye Sunglasses (20)  ₹1,089   \n",
       "99          PIRASO              UV Protection Aviator Sunglasses (58)    ₹299   \n",
       "\n",
       "   Discount  \n",
       "0   83% off  \n",
       "1   88% off  \n",
       "2   85% off  \n",
       "3   90% off  \n",
       "4   87% off  \n",
       "..      ...  \n",
       "95  87% off  \n",
       "96  82% off  \n",
       "97  81% off  \n",
       "98  51% off  \n",
       "99  88% off  \n",
       "\n",
       "[100 rows x 4 columns]"
      ]
     },
     "execution_count": 109,
     "metadata": {},
     "output_type": "execute_result"
    }
   ],
   "source": [
    "#sorting the required information and storing in the list.\n",
    "Brand = []\n",
    "Product_Description= []\n",
    "Price = []\n",
    "Discount =[]\n",
    "\n",
    "while True:\n",
    "    \n",
    "    time.sleep(3)\n",
    "        \n",
    "    for i in driver.find_elements_by_xpath(\"//div[@class= '_2B099V']//div[@class = '_2WkVRV']\"):\n",
    "        Brand.append(i.text)\n",
    "        if len(Brand) == 100:\n",
    "            break\n",
    "            \n",
    "    for i in driver.find_elements_by_xpath(\"//div[@class= '_2B099V']//a\"):\n",
    "        Product_Description.append(i.get_attribute('title'))\n",
    "        if len(Product_Description) == 200:\n",
    "            break\n",
    "    \n",
    "    for i in driver.find_elements_by_xpath(\"//div[@class= '_25b18c']//div[@class = '_30jeq3']\"):\n",
    "        Price.append(i.text) \n",
    "        if len(Price) == 100:\n",
    "            break    \n",
    "    for i in driver.find_elements_by_xpath(\"//div[@class= '_3Ay6Sb']/span\"):\n",
    "        Discount.append(i.text)\n",
    "        if len(Discount) == 100:\n",
    "            break  \n",
    "            \n",
    "    if len(Discount) == 100:\n",
    "        break\n",
    "        \n",
    "    for j in driver.find_elements_by_xpath(\"//nav[@class ='yFHi8N']/a[@class = '_1LKTO3']\"):\n",
    "        next=[j.get_attribute(\"href\")]\n",
    "    \n",
    "    time.sleep(3)\n",
    "        \n",
    "    for n in next:\n",
    "        driver.get(n) \n",
    "    \n",
    "driver.close() \n",
    "\n",
    "Product = [] # Since Product_Description have many unwanted information am following this method to clense it.\n",
    "for i in range(0,len(Product_Description)):\n",
    "    if i == 0 or  i/2 == i//2:\n",
    "        Product.append(Product_Description[i])\n",
    "        \n",
    "        \n",
    "#Creating DataFrame.\n",
    "Flipkart_Sunglass = pd.DataFrame({\"Brand\": Brand, \n",
    "                                  \"Product_Description\": Product, \n",
    "                                  \"Price\": Price , \n",
    "                                  \"Discount\": Discount})\n",
    "Flipkart_Sunglass"
   ]
  },
  {
   "cell_type": "code",
   "execution_count": null,
   "id": "dd588b04",
   "metadata": {},
   "outputs": [],
   "source": []
  },
  {
   "cell_type": "code",
   "execution_count": 140,
   "id": "d9810c7c",
   "metadata": {},
   "outputs": [],
   "source": [
    "import selenium\n",
    "import pandas as pd\n",
    "from selenium import webdriver\n",
    "import warnings\n",
    "warnings.filterwarnings('ignore')"
   ]
  },
  {
   "cell_type": "code",
   "execution_count": 144,
   "id": "535be74a",
   "metadata": {},
   "outputs": [],
   "source": [
    "import selenium\n",
    "import os\n",
    "import time\n",
    "\n",
    "from selenium import webdriver\n",
    "from selenium.webdriver.common.keys import Keys\n",
    "\n",
    "chromedriver = '/usr/local/bin/chromedriver'\n",
    "driver = webdriver.Chrome(chromedriver)\n",
    "#driver.get('https://www.flipkart.com/')\n",
    "\n",
    "driver.get(\" https://www.flipkart.com/apple-iphone-11-black-64-gb-includes-earpods-power-adapter/p/itm0f37c2240b217?pid=MOBFKCTSVZAXUHGR&lid=LSTMOBFKCTSVZAXUHGREPBFGI&marketplace.\")\n",
    "driver.maximize_window()\n"
   ]
  },
  {
   "cell_type": "code",
   "execution_count": 145,
   "id": "0b86cadb",
   "metadata": {},
   "outputs": [],
   "source": [
    "#sorting the required information and storing in the list.\n",
    "Rating = []\n",
    "Review_summary = []\n",
    "Full_review = []\n",
    "\n",
    "while True:\n",
    "    time.sleep(3)\n",
    "    \n",
    "    for i in driver.find_elements_by_xpath(\"//div[@class = 'col _2wzgFH K0kLPL']//div[@class= 'row']/div\"):\n",
    "        Rating.append(i.text)\n",
    "        if len(Rating) == 20:\n",
    "            break \n",
    "            \n",
    "    for i in driver.find_elements_by_xpath(\"//div[@class= 'row']//p[@class = '_2-N8zT']\"):\n",
    "        Review_summary.append(i.text)\n",
    "        if len(Review_summary) == 10:\n",
    "            break \n",
    "            \n",
    "    for i in driver.find_elements_by_xpath(\"//div[@class= 't-ZTKy']//div[@class]\"):\n",
    "        Full_review.append(i.text.replace('\\n',''))\n",
    "        if len(Full_review) == 10:\n",
    "            break \n",
    "        \n",
    "    if len(Full_review) == 10:\n",
    "        break    \n",
    "                \n",
    "    for i in driver.find_elements_by_xpath(\"//nav[@class='yFHi8N']//a[@class='_1LKTO3']\"):\n",
    "        next=[i.get_attribute(\"href\")]\n",
    "    \n",
    "    time.sleep(3)\n",
    "        \n",
    "    for n in next:\n",
    "        driver.get(n)\n",
    "\n",
    "driver.close()\n",
    "\n",
    "Rat = [] \n",
    "for i in range(0,len(Rating)):\n",
    "    if i == 0 or  i/2 == i//2:\n",
    "        Rat.append(Rating[i])"
   ]
  },
  {
   "cell_type": "code",
   "execution_count": 146,
   "id": "bd78d1ca",
   "metadata": {},
   "outputs": [
    {
     "name": "stdout",
     "output_type": "stream",
     "text": [
      "0 10 10\n"
     ]
    }
   ],
   "source": [
    "print(len(Rat),len(Review_summary),len(Full_review))"
   ]
  },
  {
   "cell_type": "code",
   "execution_count": 147,
   "id": "c852667c",
   "metadata": {},
   "outputs": [
    {
     "data": {
      "text/html": [
       "<div>\n",
       "<style scoped>\n",
       "    .dataframe tbody tr th:only-of-type {\n",
       "        vertical-align: middle;\n",
       "    }\n",
       "\n",
       "    .dataframe tbody tr th {\n",
       "        vertical-align: top;\n",
       "    }\n",
       "\n",
       "    .dataframe thead th {\n",
       "        text-align: right;\n",
       "    }\n",
       "</style>\n",
       "<table border=\"1\" class=\"dataframe\">\n",
       "  <thead>\n",
       "    <tr style=\"text-align: right;\">\n",
       "      <th></th>\n",
       "      <th>Review_summary</th>\n",
       "      <th>Full review</th>\n",
       "    </tr>\n",
       "  </thead>\n",
       "  <tbody>\n",
       "    <tr>\n",
       "      <th>0</th>\n",
       "      <td>Brilliant</td>\n",
       "      <td>The Best Phone for the MoneyThe iPhone 11 offe...</td>\n",
       "    </tr>\n",
       "    <tr>\n",
       "      <th>1</th>\n",
       "      <td>Simply awesome</td>\n",
       "      <td>Really satisfied with the Product I received.....</td>\n",
       "    </tr>\n",
       "    <tr>\n",
       "      <th>2</th>\n",
       "      <td>Best in the market!</td>\n",
       "      <td>Great iPhone very snappy experience as apple k...</td>\n",
       "    </tr>\n",
       "    <tr>\n",
       "      <th>3</th>\n",
       "      <td></td>\n",
       "      <td></td>\n",
       "    </tr>\n",
       "    <tr>\n",
       "      <th>4</th>\n",
       "      <td></td>\n",
       "      <td></td>\n",
       "    </tr>\n",
       "    <tr>\n",
       "      <th>5</th>\n",
       "      <td></td>\n",
       "      <td></td>\n",
       "    </tr>\n",
       "    <tr>\n",
       "      <th>6</th>\n",
       "      <td></td>\n",
       "      <td></td>\n",
       "    </tr>\n",
       "    <tr>\n",
       "      <th>7</th>\n",
       "      <td></td>\n",
       "      <td></td>\n",
       "    </tr>\n",
       "    <tr>\n",
       "      <th>8</th>\n",
       "      <td></td>\n",
       "      <td></td>\n",
       "    </tr>\n",
       "    <tr>\n",
       "      <th>9</th>\n",
       "      <td></td>\n",
       "      <td></td>\n",
       "    </tr>\n",
       "  </tbody>\n",
       "</table>\n",
       "</div>"
      ],
      "text/plain": [
       "        Review_summary                                        Full review\n",
       "0            Brilliant  The Best Phone for the MoneyThe iPhone 11 offe...\n",
       "1       Simply awesome  Really satisfied with the Product I received.....\n",
       "2  Best in the market!  Great iPhone very snappy experience as apple k...\n",
       "3                                                                        \n",
       "4                                                                        \n",
       "5                                                                        \n",
       "6                                                                        \n",
       "7                                                                        \n",
       "8                                                                        \n",
       "9                                                                        "
      ]
     },
     "execution_count": 147,
     "metadata": {},
     "output_type": "execute_result"
    }
   ],
   "source": [
    "#Creating DataFrame\n",
    "i_phone11_review = pd.DataFrame({\n",
    "                     \"Review_summary\" : Review_summary,\n",
    "                     \"Full review\" : Full_review})\n",
    "\n",
    "i_phone11_review.head(30)"
   ]
  },
  {
   "cell_type": "markdown",
   "id": "107818e6",
   "metadata": {},
   "source": [
    "# Question Number 7"
   ]
  },
  {
   "cell_type": "code",
   "execution_count": 152,
   "id": "b61a02d7",
   "metadata": {},
   "outputs": [],
   "source": [
    "import selenium\n",
    "import pandas as pd\n",
    "from selenium import webdriver\n",
    "import warnings\n",
    "warnings.filterwarnings('ignore')"
   ]
  },
  {
   "cell_type": "code",
   "execution_count": 153,
   "id": "0f24bb50",
   "metadata": {},
   "outputs": [],
   "source": [
    "import selenium\n",
    "import os\n",
    "import time\n",
    "\n",
    "from selenium import webdriver\n",
    "from selenium.webdriver.common.keys import Keys\n",
    "\n",
    "chromedriver = '/usr/local/bin/chromedriver'\n",
    "driver = webdriver.Chrome(chromedriver)\n",
    "#driver.get('https://www.flipkart.com/')\n",
    "\n",
    "driver.get(\" https://www.myntra.com/shoes.\")\n",
    "driver.maximize_window()"
   ]
  },
  {
   "cell_type": "code",
   "execution_count": 155,
   "id": "51d7c376",
   "metadata": {},
   "outputs": [
    {
     "data": {
      "text/html": [
       "<div>\n",
       "<style scoped>\n",
       "    .dataframe tbody tr th:only-of-type {\n",
       "        vertical-align: middle;\n",
       "    }\n",
       "\n",
       "    .dataframe tbody tr th {\n",
       "        vertical-align: top;\n",
       "    }\n",
       "\n",
       "    .dataframe thead th {\n",
       "        text-align: right;\n",
       "    }\n",
       "</style>\n",
       "<table border=\"1\" class=\"dataframe\">\n",
       "  <thead>\n",
       "    <tr style=\"text-align: right;\">\n",
       "      <th></th>\n",
       "      <th>Brand</th>\n",
       "      <th>description</th>\n",
       "      <th>price</th>\n",
       "    </tr>\n",
       "  </thead>\n",
       "  <tbody>\n",
       "    <tr>\n",
       "      <th>0</th>\n",
       "      <td>Nike</td>\n",
       "      <td>Men Revolution 5 Running Shoes</td>\n",
       "      <td>2771</td>\n",
       "    </tr>\n",
       "    <tr>\n",
       "      <th>1</th>\n",
       "      <td>Skechers</td>\n",
       "      <td>Women BOBS PULSE AIR Sneakers</td>\n",
       "      <td>2449</td>\n",
       "    </tr>\n",
       "    <tr>\n",
       "      <th>2</th>\n",
       "      <td>U.S. Polo Assn.</td>\n",
       "      <td>Men Solid Slip-On Sneakers</td>\n",
       "      <td>1299</td>\n",
       "    </tr>\n",
       "    <tr>\n",
       "      <th>3</th>\n",
       "      <td>H&amp;M</td>\n",
       "      <td>Women Chelsea Boots</td>\n",
       "      <td>2429</td>\n",
       "    </tr>\n",
       "    <tr>\n",
       "      <th>4</th>\n",
       "      <td>Nike</td>\n",
       "      <td>Men Leather Sneakers</td>\n",
       "      <td>3146</td>\n",
       "    </tr>\n",
       "    <tr>\n",
       "      <th>...</th>\n",
       "      <td>...</td>\n",
       "      <td>...</td>\n",
       "      <td>...</td>\n",
       "    </tr>\n",
       "    <tr>\n",
       "      <th>95</th>\n",
       "      <td>DEAS</td>\n",
       "      <td>Women Mules Flats</td>\n",
       "      <td>599</td>\n",
       "    </tr>\n",
       "    <tr>\n",
       "      <th>96</th>\n",
       "      <td>Metro</td>\n",
       "      <td>Women High-Top Heeled Boots</td>\n",
       "      <td>5490</td>\n",
       "    </tr>\n",
       "    <tr>\n",
       "      <th>97</th>\n",
       "      <td>Puma</td>\n",
       "      <td>Unisex Kids Woven Design Sneakers</td>\n",
       "      <td>1199</td>\n",
       "    </tr>\n",
       "    <tr>\n",
       "      <th>98</th>\n",
       "      <td>ADIDAS</td>\n",
       "      <td>Men Magnificeo Running Shoes</td>\n",
       "      <td>2529</td>\n",
       "    </tr>\n",
       "    <tr>\n",
       "      <th>99</th>\n",
       "      <td>HIGHLANDER</td>\n",
       "      <td>Men Solid Sneakers</td>\n",
       "      <td>796</td>\n",
       "    </tr>\n",
       "  </tbody>\n",
       "</table>\n",
       "<p>100 rows × 3 columns</p>\n",
       "</div>"
      ],
      "text/plain": [
       "              Brand                        description price\n",
       "0              Nike     Men Revolution 5 Running Shoes  2771\n",
       "1          Skechers      Women BOBS PULSE AIR Sneakers  2449\n",
       "2   U.S. Polo Assn.         Men Solid Slip-On Sneakers  1299\n",
       "3               H&M                Women Chelsea Boots  2429\n",
       "4              Nike               Men Leather Sneakers  3146\n",
       "..              ...                                ...   ...\n",
       "95             DEAS                  Women Mules Flats   599\n",
       "96            Metro        Women High-Top Heeled Boots  5490\n",
       "97             Puma  Unisex Kids Woven Design Sneakers  1199\n",
       "98           ADIDAS       Men Magnificeo Running Shoes  2529\n",
       "99       HIGHLANDER                 Men Solid Sneakers   796\n",
       "\n",
       "[100 rows x 3 columns]"
      ]
     },
     "execution_count": 155,
     "metadata": {},
     "output_type": "execute_result"
    }
   ],
   "source": [
    "Brand,description,price = [], [], []\n",
    "q = 0\n",
    "\n",
    "while q<2:\n",
    "    time.sleep(3)\n",
    "    for i in driver.find_elements_by_xpath(\"//div[@class= 'product-productMetaInfo']//h3[@class = 'product-brand']\"):\n",
    "        Brand.append(i.text)\n",
    "    \n",
    "    for i in driver.find_elements_by_xpath(\"//div[@class= 'product-productMetaInfo']//h4[@class = 'product-product']\"):\n",
    "        description.append(i.text)\n",
    "    \n",
    "    for i in driver.find_elements_by_xpath(\"//div[@class= 'product-productMetaInfo']//div[@class = 'product-price']\"):\n",
    "        price.append(i.text)\n",
    "    \n",
    "    nxt = driver.find_element_by_xpath(\"//a[@rel = 'next']\")\n",
    "    nxt.click()\n",
    "    q +=1\n",
    "\n",
    "driver.close()     \n",
    "price= [i.split('Rs. ')[1] for i in price]   \n",
    "\n",
    "myntra_blackshoes = pd.DataFrame({\"Brand\":Brand,\"description\":description,\"price\":price})\n",
    "myntra_blackshoes"
   ]
  },
  {
   "cell_type": "code",
   "execution_count": null,
   "id": "8a32b16b",
   "metadata": {},
   "outputs": [],
   "source": []
  },
  {
   "cell_type": "code",
   "execution_count": null,
   "id": "0da66c99",
   "metadata": {},
   "outputs": [],
   "source": []
  },
  {
   "cell_type": "code",
   "execution_count": null,
   "id": "2c40ac48",
   "metadata": {},
   "outputs": [],
   "source": []
  },
  {
   "cell_type": "code",
   "execution_count": null,
   "id": "e9da5315",
   "metadata": {},
   "outputs": [],
   "source": []
  },
  {
   "cell_type": "code",
   "execution_count": null,
   "id": "661129b1",
   "metadata": {},
   "outputs": [],
   "source": []
  },
  {
   "cell_type": "code",
   "execution_count": null,
   "id": "abed1f5d",
   "metadata": {},
   "outputs": [],
   "source": []
  },
  {
   "cell_type": "code",
   "execution_count": null,
   "id": "02880562",
   "metadata": {},
   "outputs": [],
   "source": []
  },
  {
   "cell_type": "code",
   "execution_count": null,
   "id": "ca1cb11b",
   "metadata": {},
   "outputs": [],
   "source": []
  },
  {
   "cell_type": "code",
   "execution_count": null,
   "id": "c005792d",
   "metadata": {},
   "outputs": [],
   "source": []
  },
  {
   "cell_type": "code",
   "execution_count": null,
   "id": "4e702533",
   "metadata": {},
   "outputs": [],
   "source": []
  },
  {
   "cell_type": "code",
   "execution_count": null,
   "id": "f37cc10b",
   "metadata": {},
   "outputs": [],
   "source": []
  },
  {
   "cell_type": "code",
   "execution_count": null,
   "id": "f459cdbb",
   "metadata": {},
   "outputs": [],
   "source": []
  }
 ],
 "metadata": {
  "kernelspec": {
   "display_name": "Python 3 (ipykernel)",
   "language": "python",
   "name": "python3"
  },
  "language_info": {
   "codemirror_mode": {
    "name": "ipython",
    "version": 3
   },
   "file_extension": ".py",
   "mimetype": "text/x-python",
   "name": "python",
   "nbconvert_exporter": "python",
   "pygments_lexer": "ipython3",
   "version": "3.8.12"
  }
 },
 "nbformat": 4,
 "nbformat_minor": 5
}
